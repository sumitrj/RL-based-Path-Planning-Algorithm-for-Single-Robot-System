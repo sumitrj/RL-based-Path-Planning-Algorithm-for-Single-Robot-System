{
 "cells": [
  {
   "cell_type": "markdown",
   "metadata": {},
   "source": [
    "# Getting Dependencies"
   ]
  },
  {
   "cell_type": "code",
   "execution_count": 1,
   "metadata": {},
   "outputs": [
    {
     "name": "stdout",
     "output_type": "stream",
     "text": [
      "GPU used:  GeForce 940M\n"
     ]
    }
   ],
   "source": [
    "import torch\n",
    "import numpy as np\n",
    "import matplotlib.pyplot as plt\n",
    "import pandas as pd\n",
    "from IPython.display import HTML\n",
    "print(\"GPU used: \", torch.cuda.get_device_name(0))"
   ]
  },
  {
   "cell_type": "markdown",
   "metadata": {},
   "source": [
    "# Field Hyperparameters"
   ]
  },
  {
   "cell_type": "code",
   "execution_count": 8,
   "metadata": {},
   "outputs": [],
   "source": [
    "M = 10\n",
    "\n",
    "#Reward Matrix\n",
    "R = np.random.randn(M,M)\n",
    "R*=10\n",
    "\n",
    "for i in range(M):\n",
    "    R[i][i]=0\n",
    "\n",
    "# Q Matrix\n",
    "Q = np.zeros((M,M))\n",
    "initial_state = 1\n",
    "\n",
    "#Learning Rate\n",
    "G = 0.8\n",
    "\n",
    "#Number of Episodes \n",
    "E = 1000 \n",
    "activation = 0"
   ]
  },
  {
   "cell_type": "markdown",
   "metadata": {},
   "source": [
    "# Finfing available Actions"
   ]
  },
  {
   "cell_type": "code",
   "execution_count": 4,
   "metadata": {},
   "outputs": [
    {
     "name": "stdout",
     "output_type": "stream",
     "text": [
      "[0 1 3 4 5 6 7]\n"
     ]
    }
   ],
   "source": [
    "def available_acts(state):\n",
    "    current_state_row = R[state,]\n",
    "    av_act = np.where(current_state_row>=activation)\n",
    "    return av_act[0]\n",
    "available_actions = available_acts(initial_state)\n",
    "print(available_actions)"
   ]
  },
  {
   "cell_type": "code",
   "execution_count": 5,
   "metadata": {},
   "outputs": [
    {
     "data": {
      "text/plain": [
       "6"
      ]
     },
     "execution_count": 5,
     "metadata": {},
     "output_type": "execute_result"
    }
   ],
   "source": [
    "def sample_next(a):\n",
    "    next_act = int(np.random.choice(a,1))\n",
    "    return next_act\n",
    "next_act = sample_next(available_actions)\n",
    "next_act"
   ]
  },
  {
   "cell_type": "code",
   "execution_count": 14,
   "metadata": {},
   "outputs": [
    {
     "data": {
      "text/plain": [
       "array([[4.58333333e+02, 9.16666667e+00],\n",
       "       [9.16666667e+00, 1.83333333e-01]])"
      ]
     },
     "execution_count": 14,
     "metadata": {},
     "output_type": "execute_result"
    }
   ],
   "source": [
    "np.cov(x,y)/50"
   ]
  },
  {
   "cell_type": "code",
   "execution_count": 6,
   "metadata": {},
   "outputs": [],
   "source": [
    "def update(current,action,G):\n",
    "    Q[current,action] = R[current,action] + G*max(Q[current])"
   ]
  },
  {
   "cell_type": "markdown",
   "metadata": {},
   "source": [
    "# Training "
   ]
  },
  {
   "cell_type": "code",
   "execution_count": 9,
   "metadata": {},
   "outputs": [],
   "source": [
    "for i in range(E):\n",
    "    current_state = np.random.randint(0,int(Q.shape[0]))\n",
    "    available_act = available_acts(current_state)\n",
    "    action = sample_next(available_act)\n",
    "    update(current_state,action,G)"
   ]
  },
  {
   "cell_type": "markdown",
   "metadata": {},
   "source": [
    "# Checking the updated reward matrix"
   ]
  },
  {
   "cell_type": "code",
   "execution_count": 14,
   "metadata": {},
   "outputs": [
    {
     "data": {
      "text/plain": [
       "array([[ 0.00000000e+00,  3.26028066e+01, -3.07857742e+00,\n",
       "        -2.00617900e+01, -3.77291067e-01, -1.41930631e+01,\n",
       "        -1.34238983e+01, -5.15073268e+00, -1.02317681e+01,\n",
       "        -4.84738066e+00],\n",
       "       [-1.00085222e+01,  0.00000000e+00,  1.76454467e+01,\n",
       "         2.49644959e+00, -1.34652838e+01, -7.18884113e-01,\n",
       "         1.49734665e+01, -1.42833855e+01,  1.17469119e+01,\n",
       "        -4.03593156e+00],\n",
       "       [-3.30088540e+00,  2.00454591e+01,  0.00000000e+00,\n",
       "         7.85708713e+00, -1.64200939e+01,  7.07038722e+00,\n",
       "         2.50879309e+01, -1.32138476e+01,  2.77542843e+00,\n",
       "        -1.95769449e+01],\n",
       "       [ 2.31245831e+01,  1.20909411e+01,  2.51451077e+00,\n",
       "         0.00000000e+00,  1.38111559e+00,  8.06979609e+00,\n",
       "        -1.09322460e+01, -2.96998020e-01,  9.87750188e+00,\n",
       "        -2.68707287e+00],\n",
       "       [-1.55730948e+01,  9.91634109e+00, -2.31494381e+00,\n",
       "         1.54209348e+01,  0.00000000e+00,  1.43729108e+01,\n",
       "         4.87653277e+00, -5.67794959e+00,  2.32403321e+01,\n",
       "         9.06381106e+00],\n",
       "       [-1.22372876e+01,  1.40521514e+00, -3.61878351e+00,\n",
       "         6.97090578e-01, -1.52643016e+00,  0.00000000e+00,\n",
       "         1.92733541e+01, -6.50993395e+00, -9.79028538e+00,\n",
       "        -8.08425248e+00],\n",
       "       [-5.43125576e+00, -1.63656717e+00,  2.10476860e+01,\n",
       "        -1.15772045e+01,  6.17797109e+00,  9.29687295e+00,\n",
       "         0.00000000e+00, -3.85029383e+00,  3.92866747e+00,\n",
       "         8.64245409e+00],\n",
       "       [-1.60476702e+00, -4.22831646e-01, -9.15345949e+00,\n",
       "         1.24714915e+00, -5.59663943e+00,  6.61859786e+00,\n",
       "        -1.01354355e+01,  0.00000000e+00,  2.12195880e+01,\n",
       "         9.42012640e+00],\n",
       "       [ 8.25570094e+00, -1.19935489e+01, -1.75399967e+01,\n",
       "         5.13941492e+00,  1.55194060e+01, -2.34996624e-02,\n",
       "        -4.63962437e+00, -1.25530399e+01,  0.00000000e+00,\n",
       "        -5.46645849e+00],\n",
       "       [ 9.09731985e+00,  1.32063068e+00, -7.77352497e+00,\n",
       "        -1.43610351e-01,  1.26534664e+01, -1.09165921e+01,\n",
       "        -5.47290074e+00, -6.67900551e+00, -7.70877896e-01,\n",
       "         0.00000000e+00]])"
      ]
     },
     "execution_count": 14,
     "metadata": {},
     "output_type": "execute_result"
    }
   ],
   "source": [
    "R"
   ]
  },
  {
   "cell_type": "markdown",
   "metadata": {},
   "source": [
    "# Finding Path to be Traversed"
   ]
  },
  {
   "cell_type": "code",
   "execution_count": 13,
   "metadata": {},
   "outputs": [
    {
     "name": "stdout",
     "output_type": "stream",
     "text": [
      "The optimized path that is to be traversed to cover all points\n",
      "\n",
      "State:  0 ; Next State :  1\n",
      "State:  1 ; Next State :  2\n",
      "State:  2 ; Next State :  6\n",
      "State:  3 ; Next State :  0\n",
      "State:  4 ; Next State :  8\n",
      "State:  5 ; Next State :  6\n",
      "State:  6 ; Next State :  2\n",
      "State:  7 ; Next State :  8\n",
      "State:  8 ; Next State :  4\n",
      "State:  9 ; Next State :  4\n"
     ]
    }
   ],
   "source": [
    "Q = Q/np.max(Q)\n",
    "print(\"The optimized path that is to be traversed to cover all points\")\n",
    "print(\"\")\n",
    "for i in range(len(Q)):\n",
    "    print('State: ',i ,'; Next State : ',np.argmax(Q[i]))\n"
   ]
  },
  {
   "cell_type": "code",
   "execution_count": null,
   "metadata": {},
   "outputs": [],
   "source": []
  }
 ],
 "metadata": {
  "kernelspec": {
   "display_name": "Python 3",
   "language": "python",
   "name": "python3"
  },
  "language_info": {
   "codemirror_mode": {
    "name": "ipython",
    "version": 3
   },
   "file_extension": ".py",
   "mimetype": "text/x-python",
   "name": "python",
   "nbconvert_exporter": "python",
   "pygments_lexer": "ipython3",
   "version": "3.7.0"
  }
 },
 "nbformat": 4,
 "nbformat_minor": 2
}
